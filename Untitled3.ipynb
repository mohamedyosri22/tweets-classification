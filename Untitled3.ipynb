{
 "cells": [
  {
   "cell_type": "code",
   "execution_count": 1,
   "id": "38cbbe36",
   "metadata": {},
   "outputs": [],
   "source": [
    "import pandas as pd\n",
    "from sklearn.preprocessing import LabelEncoder\n",
    "from sklearn.feature_extraction.text import TfidfVectorizer\n",
    "from sklearn.model_selection import train_test_split\n",
    "from sklearn.naive_bayes import BernoulliNB\n",
    "from nltk.corpus import stopwords\n",
    "import nltk\n",
    "import string\n",
    "string.punctuation\n",
    "\n",
    "\n",
    "stopwords = set(stopwords.words('english'))\n",
    "\n",
    "path = \"train.tsv\"\n",
    "dataset = pd.read_csv(path, sep='\\t')\n",
    "\n",
    "path1 = \"unlabeled_test_with_noise.tsv\"\n",
    "dataset1 = pd.read_csv(path1, sep='\\t')"
   ]
  },
  {
   "cell_type": "code",
   "execution_count": 2,
   "id": "8f851f79",
   "metadata": {},
   "outputs": [],
   "source": [
    "# label encoder\n",
    "le = LabelEncoder()\n",
    "\n",
    "# assigning the label with and 1 INFORMATIVE  or 0 UNINFORMATIVE\n",
    "dataset['Label Index'] = le.fit_transform(dataset['Label'])\n",
    "\n",
    "\n",
    "# deleting unneeded columns\n",
    "del dataset['Label']\n",
    "del dataset['Id']"
   ]
  },
  {
   "cell_type": "code",
   "execution_count": 3,
   "id": "6263451f",
   "metadata": {},
   "outputs": [],
   "source": [
    "#preprocessing functions\n",
    "\n",
    "# defining the function to remove punctuation\n",
    "def remove_punctuation(text):\n",
    "    punctuationfree = \"\".join([i for i in text if i not in string.punctuation])\n",
    "    return punctuationfree\n",
    "\n",
    "\n",
    "def remove_stopwords(text):\n",
    "    output = [i for i in text if i not in stopwords]\n",
    "    return output"
   ]
  },
  {
   "cell_type": "code",
   "execution_count": 4,
   "id": "774bf71e",
   "metadata": {},
   "outputs": [],
   "source": [
    "X = dataset['Text']\n",
    "\n",
    "#applying the preprocessing functions\n",
    "\n",
    "#X = X.apply(lambda x: remove_punctuation(x))\n",
    "\n",
    "#X = X.apply(lambda x: remove_stopwords(x))"
   ]
  },
  {
   "cell_type": "code",
   "execution_count": 5,
   "id": "86faa71e",
   "metadata": {},
   "outputs": [],
   "source": [
    "y = dataset['Label Index']\n",
    "\n",
    "# tokenizing the text data\n",
    "\n",
    "tfidf = TfidfVectorizer(max_features=50000, ngram_range=(1, 2),stop_words='english')\n",
    "X = tfidf.fit_transform(X)\n",
    "\n",
    "y = dataset['Label Index']"
   ]
  },
  {
   "cell_type": "code",
   "execution_count": 6,
   "id": "2cb0b820",
   "metadata": {},
   "outputs": [],
   "source": [
    "# spliting the data\n",
    "\n",
    "X_train, X_test, y_train, y_test = train_test_split(X, y, random_state=44, test_size=0.33)"
   ]
  },
  {
   "cell_type": "code",
   "execution_count": 7,
   "id": "43f95520",
   "metadata": {},
   "outputs": [
    {
     "name": "stdout",
     "output_type": "stream",
     "text": [
      "Train score =  0.9868732515601464\n",
      "Test score =  0.8344255133245959\n"
     ]
    }
   ],
   "source": [
    "# implementing the model\n",
    "\n",
    "NBmodel = BernoulliNB(alpha=0.7)\n",
    "\n",
    "NBmodel.fit(X_train, y_train)\n",
    "\n",
    "print(\"Train accuracy = \", NBmodel.score(X_train, y_train))\n",
    "print(\"Test accuracy = \", NBmodel.score(X_test, y_test))"
   ]
  },
  {
   "cell_type": "code",
   "execution_count": 8,
   "id": "5c310eb8",
   "metadata": {},
   "outputs": [
    {
     "data": {
      "text/plain": [
       "12000"
      ]
     },
     "execution_count": 8,
     "metadata": {},
     "output_type": "execute_result"
    }
   ],
   "source": [
    "# for the unlabeled data\n",
    "X_test_unlabeld = tfidf.transform(dataset1['Text'])\n",
    "\n",
    "y_pred_unlabeled = NBmodel.predict(X_test_unlabeld)\n",
    "\n",
    "len(y_pred_unlabeled)\n",
    "\n"
   ]
  },
  {
   "cell_type": "code",
   "execution_count": 9,
   "id": "7b94f27f",
   "metadata": {},
   "outputs": [
    {
     "name": "stdout",
     "output_type": "stream",
     "text": [
      "thank you sir for saving america\n",
      "['UNINFORMATIVE']\n",
      "my dad died yesterday because of covid 19 \n",
      "['INFORMATIVE']\n",
      "now i just got the report says that 9000 more people died today of covid 19\n",
      "['INFORMATIVE']\n",
      "quit\n"
     ]
    }
   ],
   "source": [
    "while True:\n",
    "    test = input()\n",
    "    \n",
    "    if test.lower() == 'quit':\n",
    "        break\n",
    "\n",
    "    test = tfidf.transform([test])\n",
    "\n",
    "    result = NBmodel.predict(test)\n",
    "\n",
    "    print(le.inverse_transform(result))\n",
    "    \n",
    "    "
   ]
  },
  {
   "cell_type": "code",
   "execution_count": null,
   "id": "c1a8794d",
   "metadata": {},
   "outputs": [],
   "source": []
  }
 ],
 "metadata": {
  "kernelspec": {
   "display_name": "Python 3 (ipykernel)",
   "language": "python",
   "name": "python3"
  },
  "language_info": {
   "codemirror_mode": {
    "name": "ipython",
    "version": 3
   },
   "file_extension": ".py",
   "mimetype": "text/x-python",
   "name": "python",
   "nbconvert_exporter": "python",
   "pygments_lexer": "ipython3",
   "version": "3.9.7"
  }
 },
 "nbformat": 4,
 "nbformat_minor": 5
}
